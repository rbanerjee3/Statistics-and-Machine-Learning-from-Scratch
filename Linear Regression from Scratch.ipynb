{
 "cells": [
  {
   "cell_type": "markdown",
   "metadata": {},
   "source": [
    "# Linear Regression from Scratch using Gradient Descent"
   ]
  },
  {
   "cell_type": "code",
   "execution_count": 1,
   "metadata": {},
   "outputs": [],
   "source": [
    "#Import the required libraries\n",
    "from numpy import *"
   ]
  },
  {
   "cell_type": "markdown",
   "metadata": {},
   "source": [
    "#### Step 1: Collect Data"
   ]
  },
  {
   "cell_type": "code",
   "execution_count": 2,
   "metadata": {},
   "outputs": [],
   "source": [
    "points=genfromtxt('Points.txt', delimiter=',')"
   ]
  },
  {
   "cell_type": "markdown",
   "metadata": {},
   "source": [
    "#### Step 2: Define the hyperparameters"
   ]
  },
  {
   "cell_type": "code",
   "execution_count": 3,
   "metadata": {},
   "outputs": [],
   "source": [
    "learning_rate=0.0001            #How should our model converge\n",
    "initial_b=0\n",
    "initial_m=0\n",
    "num_iterations=1000"
   ]
  },
  {
   "cell_type": "markdown",
   "metadata": {},
   "source": [
    "#### Step 3: Train our model"
   ]
  },
  {
   "cell_type": "code",
   "execution_count": 4,
   "metadata": {},
   "outputs": [],
   "source": [
    "#Compute the error using sum of squared differences\n",
    "def compute_error(b,m,points):\n",
    "    total_error=0\n",
    "    for i in range(len(points)):\n",
    "        y=points[i,1]\n",
    "        x=points[i,0]\n",
    "        \n",
    "        #calculate the error\n",
    "        total_error+=(y - (m * x + b)) ** 2\n",
    "        \n",
    "        #calculate the average\n",
    "    return total_error/float(len(points))\n",
    "\n",
    "#Calculate the gradient descent\n",
    "def gradient_descent(points, starting_b, starting_m, learning_rate, num_iterations):\n",
    "    #initialize b and m\n",
    "    b=starting_b\n",
    "    m=starting_m\n",
    "    \n",
    "    #gradient descent\n",
    "    for i in range(num_iterations):\n",
    "        #update b and m with more accurate value\n",
    "        b, m = gradient_step(b, m, points, learning_rate)\n",
    "    return [b,m]\n",
    "\n",
    "def gradient_step(b_current, m_current, points, learningRate):\n",
    "    \n",
    "    #starting points of gradients\n",
    "    b_gradient=0\n",
    "    m_gradient=0\n",
    "    n=float(len(points))\n",
    "    \n",
    "    for i in range(0, len(points)):\n",
    "        x= points[i,0]\n",
    "        y= points[i,1]\n",
    "        \n",
    "        #calculating derivatives for finding minimum cost function\n",
    "        b_gradient+=-(2/n) * (y - ((m_current*x) + b_current))\n",
    "        m_gradient+=-(2/n) * x * (y - ((m_current*x) + b_current))\n",
    "        \n",
    "    #update b and m values using partial derivatives\n",
    "    new_b=b_current - (learningRate*b_gradient)\n",
    "    new_m=m_current - (learningRate*m_gradient)\n",
    "    return [new_b, new_m]"
   ]
  },
  {
   "cell_type": "markdown",
   "metadata": {},
   "source": [
    "#### Step 4: Execute the model"
   ]
  },
  {
   "cell_type": "code",
   "execution_count": 5,
   "metadata": {},
   "outputs": [
    {
     "name": "stdout",
     "output_type": "stream",
     "text": [
      "Starting gradient descent at b=0, m=0, error=5143.248003616552\n",
      "Running...\n",
      "After 1000 iterations, b=0.03874859049412073, m=1.3713203229029995, error=453.7412322181122\n"
     ]
    }
   ],
   "source": [
    "print('Starting gradient descent at b={0}, m={1}, error={2}'.format(initial_b,initial_m, compute_error(initial_b, initial_m, points)))\n",
    "\n",
    "[b,m] = gradient_descent(points, initial_b, initial_m, learning_rate, num_iterations)\n",
    "\n",
    "print('Running...')\n",
    "\n",
    "print('After {0} iterations, b={1}, m={2}, error={3}'.format(num_iterations,b,m, compute_error(b, m, points)))"
   ]
  },
  {
   "cell_type": "markdown",
   "metadata": {},
   "source": [
    "Thus, with the help of gradient descent, we reduced the error from 5143.24 to 453.74."
   ]
  }
 ],
 "metadata": {
  "kernelspec": {
   "display_name": "Python 3",
   "language": "python",
   "name": "python3"
  },
  "language_info": {
   "codemirror_mode": {
    "name": "ipython",
    "version": 3
   },
   "file_extension": ".py",
   "mimetype": "text/x-python",
   "name": "python",
   "nbconvert_exporter": "python",
   "pygments_lexer": "ipython3",
   "version": "3.7.1"
  }
 },
 "nbformat": 4,
 "nbformat_minor": 2
}
